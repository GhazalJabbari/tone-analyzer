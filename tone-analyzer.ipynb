{
 "cells": [
  {
   "cell_type": "markdown",
   "metadata": {},
   "source": [
    "#### Simple Example on Supermarket Review"
   ]
  },
  {
   "cell_type": "code",
   "execution_count": 1,
   "metadata": {},
   "outputs": [],
   "source": [
    "import json\n",
    "from watson_developer_cloud import ToneAnalyzerV3\n",
    "import pandas as pd"
   ]
  },
  {
   "cell_type": "code",
   "execution_count": 2,
   "metadata": {},
   "outputs": [
    {
     "name": "stdout",
     "output_type": "stream",
     "text": [
      "{\n",
      "  \"document_tone\": {\n",
      "    \"tones\": [\n",
      "      {\n",
      "        \"score\": 0.696267,\n",
      "        \"tone_id\": \"sadness\",\n",
      "        \"tone_name\": \"Sadness\"\n",
      "      },\n",
      "      {\n",
      "        \"score\": 0.51064,\n",
      "        \"tone_id\": \"analytical\",\n",
      "        \"tone_name\": \"Analytical\"\n",
      "      }\n",
      "    ]\n",
      "  },\n",
      "  \"sentences_tone\": [\n",
      "    {\n",
      "      \"sentence_id\": 0,\n",
      "      \"text\": \"The wine I had was oxidated and completely ruined.\",\n",
      "      \"tones\": [\n",
      "        {\n",
      "          \"score\": 0.512349,\n",
      "          \"tone_id\": \"sadness\",\n",
      "          \"tone_name\": \"Sadness\"\n",
      "        },\n",
      "        {\n",
      "          \"score\": 0.874372,\n",
      "          \"tone_id\": \"confident\",\n",
      "          \"tone_name\": \"Confident\"\n",
      "        }\n",
      "      ]\n",
      "    },\n",
      "    {\n",
      "      \"sentence_id\": 1,\n",
      "      \"text\": \"I contacted the customer service after the incident: they were sorry but they said that everything was ok and that they replaced the bottle of ruined wine and anyway they did not refund any money.Sorry to say that in my life I have never been in a worse place (in terms of food) than this.\",\n",
      "      \"tones\": [\n",
      "        {\n",
      "          \"score\": 0.775326,\n",
      "          \"tone_id\": \"sadness\",\n",
      "          \"tone_name\": \"Sadness\"\n",
      "        }\n",
      "      ]\n",
      "    },\n",
      "    {\n",
      "      \"sentence_id\": 2,\n",
      "      \"text\": \"Avoid to waste money and risk to be sick.\",\n",
      "      \"tones\": []\n",
      "    }\n",
      "  ]\n",
      "}\n"
     ]
    }
   ],
   "source": [
    "tone_analyzer = ToneAnalyzerV3(\n",
    "    username='your user name',\n",
    "    password='your password',\n",
    "    version='2017-09-21',\n",
    "    url = 'https://gateway-fra.watsonplatform.net/tone-analyzer/api')\n",
    "\n",
    "# Google Customer Review on a Supermarket\n",
    "\n",
    "text = 'The wine I had was oxidated and completely ruined. \\\n",
    "I contacted the customer service after the incident: \\\n",
    "they were sorry but they said that everything was ok and that \\\n",
    "they replaced the bottle of ruined wine and anyway they did not refund any money.\\\n",
    "Sorry to say that in my life I have never been in a worse place (in terms of food) than this. \\\n",
    "Avoid to waste money and risk to be sick.'\n",
    "\n",
    "\n",
    "tone_analysis = tone_analyzer.tone(\n",
    "    {'text': text},\n",
    "    'application/json'\n",
    ").get_result()\n",
    "print(json.dumps(tone_analysis, indent=2))"
   ]
  },
  {
   "cell_type": "code",
   "execution_count": 3,
   "metadata": {},
   "outputs": [
    {
     "name": "stdout",
     "output_type": "stream",
     "text": [
      "\"Sadness\"\n"
     ]
    }
   ],
   "source": [
    "#Extract the first tone name\n",
    "print(json.dumps(tone_analysis['document_tone']['tones'][0]['tone_name'], indent=2))"
   ]
  },
  {
   "cell_type": "markdown",
   "metadata": {},
   "source": [
    "#### Example in a dataframe"
   ]
  },
  {
   "cell_type": "code",
   "execution_count": 4,
   "metadata": {},
   "outputs": [],
   "source": [
    "df = pd.read_csv('./Consumer_Complaints.csv')\n",
    "df = df.dropna()\n",
    "df = df.sample(n=10)"
   ]
  },
  {
   "cell_type": "code",
   "execution_count": 5,
   "metadata": {},
   "outputs": [],
   "source": [
    "tone_input = df['Consumer complaint narrative']"
   ]
  },
  {
   "cell_type": "code",
   "execution_count": 6,
   "metadata": {},
   "outputs": [
    {
     "data": {
      "text/plain": [
       "192383    XXXX XXXX XXXX of XXXX XXXX Ca charged me XXXX...\n",
       "396526    I was contacted by Navy Federal Credit Union r...\n",
       "205553    I had multiple federal loans from XXXX XXXX an...\n",
       "444600    ERC, XXXX XXXX XXXX, XXXX, XXXX is trying to c...\n",
       "295391    I am XXXX veteran and told hospitals that they...\n",
       "629127    I revived from collection about debts that the...\n",
       "782936    I send my payment on time every month for 18 m...\n",
       "716313    I started with disputing with credit bureau be...\n",
       "131315    Sirs, according to your Consent order File no....\n",
       "201150    XXXX XXXX provided us internet service for a l...\n",
       "Name: Consumer complaint narrative, dtype: object"
      ]
     },
     "execution_count": 6,
     "metadata": {},
     "output_type": "execute_result"
    }
   ],
   "source": [
    "tone_input"
   ]
  },
  {
   "cell_type": "code",
   "execution_count": 7,
   "metadata": {},
   "outputs": [
    {
     "name": "stdout",
     "output_type": "stream",
     "text": [
      "\"confident\"\n",
      "\"tentative\"\n",
      "\"sadness\"\n",
      "\"confident\"\n",
      "\"sadness\"\n",
      "\"tentative\"\n",
      "\"analytical\"\n",
      "\"tentative\"\n"
     ]
    }
   ],
   "source": [
    "customer_tone = []\n",
    "for i in tone_input:\n",
    "    text = i\n",
    "\n",
    "    tone_analysis = tone_analyzer.tone(\n",
    "        {'text': text},\n",
    "        'application/json'\n",
    "    ).get_result()\n",
    "    if (json.dumps(tone_analysis['document_tone']['tones']) != '[]'):\n",
    "        customer_tone.append(json.dumps(tone_analysis['document_tone']['tones'][0]['tone_id'], indent=2))\n",
    "        print(json.dumps(tone_analysis['document_tone']['tones'][0]['tone_id'], indent=2))\n",
    "    else:\n",
    "        customer_tone.append('unrecognized')\n",
    "#    print(json.dumps(tone_analysis['document_tone'], indent=2))"
   ]
  },
  {
   "cell_type": "code",
   "execution_count": 8,
   "metadata": {},
   "outputs": [],
   "source": [
    "# Customer tone is added to the dataframe\n",
    "df['customer tone'] = customer_tone"
   ]
  },
  {
   "cell_type": "code",
   "execution_count": null,
   "metadata": {},
   "outputs": [],
   "source": []
  }
 ],
 "metadata": {
  "kernelspec": {
   "display_name": "Python 3",
   "language": "python",
   "name": "python3"
  },
  "language_info": {
   "codemirror_mode": {
    "name": "ipython",
    "version": 3
   },
   "file_extension": ".py",
   "mimetype": "text/x-python",
   "name": "python",
   "nbconvert_exporter": "python",
   "pygments_lexer": "ipython3",
   "version": "3.7.2"
  }
 },
 "nbformat": 4,
 "nbformat_minor": 2
}
